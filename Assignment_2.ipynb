{
 "cells": [
  {
   "cell_type": "code",
   "execution_count": 158,
   "metadata": {},
   "outputs": [
    {
     "name": "stdout",
     "output_type": "stream",
     "text": [
      "enter number of your choice to print the sum\n",
      "'5we','gte','4t4'\n"
     ]
    }
   ],
   "source": [
    "# Custom built in reduce function\n",
    "l=eval(input(('enter number of your choice to print the sum\\n')))"
   ]
  },
  {
   "cell_type": "code",
   "execution_count": 14,
   "metadata": {},
   "outputs": [],
   "source": [
    "# Task 1.1\n",
    "def cust_reduce(func,seq):\n",
    "    func = add(func,seq)\n",
    "    return func(seq)\n",
    "def mul(seq):\n",
    "    m=1\n",
    "    for i in seq:\n",
    "        m = m*i\n",
    "    return m\n",
    "\n",
    "def add(func,seq):\n",
    "    return (lambda x,y:x+y)"
   ]
  },
  {
   "cell_type": "code",
   "execution_count": 20,
   "metadata": {},
   "outputs": [],
   "source": [
    "# Task 1.2\n",
    "# Custom filter()\n",
    "def cus_filter(data):\n",
    "    if data % 2 != 0:\n",
    "        return True\n",
    "data = 6\n",
    "cus_filter(data)"
   ]
  },
  {
   "cell_type": "code",
   "execution_count": null,
   "metadata": {},
   "outputs": [],
   "source": []
  },
  {
   "cell_type": "code",
   "execution_count": 326,
   "metadata": {},
   "outputs": [
    {
     "data": {
      "text/plain": [
       "[['x', 'y', 'z'],\n",
       " ['xxxx', 'yyyy', 'zzzz'],\n",
       " ['x', 'y', 'z'],\n",
       " ['xxxx', 'yyyy', 'zzzz']]"
      ]
     },
     "execution_count": 326,
     "metadata": {},
     "output_type": "execute_result"
    }
   ],
   "source": [
    "l = [['x'*x,'y'*x,'z'*x] for y in range(2,4)  for x in range(1,6,3)]\n",
    "l"
   ]
  },
  {
   "cell_type": "code",
   "execution_count": null,
   "metadata": {},
   "outputs": [],
   "source": []
  },
  {
   "cell_type": "markdown",
   "metadata": {},
   "source": [
    " Code for list comprehension [[2], [3], [4], [3], [4], [5], [4], [5], [6]]"
   ]
  },
  {
   "cell_type": "code",
   "execution_count": 254,
   "metadata": {},
   "outputs": [
    {
     "data": {
      "text/plain": [
       "[[[2], [3], [4]], [[3], [4], [5]], [[4], [5], [6]]]"
      ]
     },
     "execution_count": 254,
     "metadata": {},
     "output_type": "execute_result"
    }
   ],
   "source": [
    "l = [[[x],[x+1],[x+2]] for x in range(2,5) ]\n",
    "l"
   ]
  },
  {
   "cell_type": "markdown",
   "metadata": {},
   "source": [
    "Code for list comprehension [[2, 3, 4, 5], [3, 4, 5, 6], [4, 5, 6, 7], [5, 6, 7, 8]] "
   ]
  },
  {
   "cell_type": "code",
   "execution_count": 258,
   "metadata": {},
   "outputs": [
    {
     "data": {
      "text/plain": [
       "[[2, 3, 4, 5], [3, 4, 5, 6], [4, 5, 6, 7], [5, 6, 7, 8]]"
      ]
     },
     "execution_count": 258,
     "metadata": {},
     "output_type": "execute_result"
    }
   ],
   "source": [
    "l = [[x,x+1,x+2,x+3] for x in range(2,6)]\n",
    "l"
   ]
  },
  {
   "cell_type": "markdown",
   "metadata": {},
   "source": [
    "Code for list comprehension [(1, 1), (2, 1), (3, 1), (1, 2), (2, 2), (3, 2), (1, 3), (2, 3), (3, 3)] "
   ]
  },
  {
   "cell_type": "code",
   "execution_count": 259,
   "metadata": {},
   "outputs": [
    {
     "data": {
      "text/plain": [
       "[(1, 1), (2, 1), (3, 1), (1, 2), (2, 2), (3, 2), (1, 3), (2, 3), (3, 3)]"
      ]
     },
     "execution_count": 259,
     "metadata": {},
     "output_type": "execute_result"
    }
   ],
   "source": [
    "l = [(x,y) for y in range(1,4) for x in range(1,4) ]\n",
    "l"
   ]
  },
  {
   "cell_type": "code",
   "execution_count": null,
   "metadata": {},
   "outputs": [],
   "source": []
  },
  {
   "cell_type": "markdown",
   "metadata": {},
   "source": [
    "Task 1 of 3"
   ]
  },
  {
   "cell_type": "code",
   "execution_count": 260,
   "metadata": {},
   "outputs": [],
   "source": [
    "#Implement a function longestWord() that takes a list of words and returns the longest one"
   ]
  },
  {
   "cell_type": "code",
   "execution_count": 283,
   "metadata": {},
   "outputs": [
    {
     "name": "stdout",
     "output_type": "stream",
     "text": [
      "Please enter a few wordsarchis mrchis crchis riches\n"
     ]
    },
    {
     "data": {
      "text/plain": [
       "'archis'"
      ]
     },
     "execution_count": 283,
     "metadata": {},
     "output_type": "execute_result"
    }
   ],
   "source": [
    "def longest_word(in_word):  \n",
    "    longest_word = ''  \n",
    "    longest_size = 0   \n",
    "    for word in in_word:    \n",
    "        if (len(word) > longest_size):\n",
    "            longest_word = word\n",
    "            longest_size = len(word)      \n",
    "    return longest_word\n",
    "words = input('Please enter a few words')  \n",
    "in_word = words.split()  \n",
    "find_longest_word(in_word)  "
   ]
  },
  {
   "cell_type": "code",
   "execution_count": null,
   "metadata": {},
   "outputs": [],
   "source": []
  },
  {
   "cell_type": "code",
   "execution_count": null,
   "metadata": {},
   "outputs": [],
   "source": []
  },
  {
   "cell_type": "code",
   "execution_count": null,
   "metadata": {},
   "outputs": [],
   "source": []
  },
  {
   "cell_type": "code",
   "execution_count": null,
   "metadata": {},
   "outputs": [],
   "source": []
  },
  {
   "cell_type": "code",
   "execution_count": null,
   "metadata": {},
   "outputs": [],
   "source": []
  },
  {
   "cell_type": "code",
   "execution_count": 35,
   "metadata": {},
   "outputs": [
    {
     "data": {
      "text/plain": [
       "[['a', 'c', 'a', 'd', 'g', 'i', 'l', 'd']]"
      ]
     },
     "execution_count": 35,
     "metadata": {},
     "output_type": "execute_result"
    }
   ],
   "source": [
    "a = ['a','c','a','d','g','i','l','d']\n",
    "lc = [a for x in range(1)]\n",
    "(lc)"
   ]
  },
  {
   "cell_type": "code",
   "execution_count": 73,
   "metadata": {},
   "outputs": [
    {
     "name": "stdout",
     "output_type": "stream",
     "text": [
      "A,C,A,D,G,I,L,D,"
     ]
    }
   ],
   "source": [
    "a = ['A','C','A','D','G','I','L','D']\n",
    "for i in a:\n",
    "    b = i\n",
    "    list(b)\n",
    "    print(b,end=',')\n"
   ]
  },
  {
   "cell_type": "markdown",
   "metadata": {},
   "source": [
    "# Task 2"
   ]
  },
  {
   "cell_type": "markdown",
   "metadata": {},
   "source": [
    "Write a Python Program(with class concepts) to find the area of the triangle using the below formula. \n",
    " \n",
    "area = (s*(s-a)*(s-b)*(s-c)) ** 0.5 \n",
    " \n",
    "Function to take the length of the sides of triangle from user should be defined in the parent class and function to calculate the area should be defined in subclass"
   ]
  },
  {
   "cell_type": "code",
   "execution_count": null,
   "metadata": {},
   "outputs": [],
   "source": [
    "class triangle():\n",
    "    def initialization(self,s,a,b,c):\n",
    "        self.s = s\n",
    "        self.a = a\n",
    "        self.b = b\n",
    "        self.c = c\n",
    "    def in_values(self):\n",
    "        try:\n",
    "            s,a,b,c = eval(input(\"enter surface area and length of 3 sides of a triangle\"))\n",
    "        except Exception:\n",
    "            print(\"check the values provided and try again\")\n",
    "            self.in_values()\n",
    "        self.initialization(s,a,b,c)\n",
    "class triangle_area(triangle):\n",
    "    def area(self):\n",
    "        return self.s*(self.s-self.a)*(self.s-self.b)*(self.s-self.c)**0.5\n",
    "obj = triangle_area()\n",
    "obj.in_values()\n",
    "print(obj.area())"
   ]
  },
  {
   "cell_type": "markdown",
   "metadata": {},
   "source": [
    "1.2 \n",
    " \n",
    "Write a function filter_long_words() that takes a list of words and an integer n and returns the list of words that are longer than n. "
   ]
  },
  {
   "cell_type": "code",
   "execution_count": 21,
   "metadata": {},
   "outputs": [
    {
     "name": "stdout",
     "output_type": "stream",
     "text": [
      "enter length of word to be5\n",
      "enter words of your choicethis program ate most my time in cleaning int is not callable error\n"
     ]
    },
    {
     "data": {
      "text/plain": [
       "['program', 'cleaning', 'callable']"
      ]
     },
     "execution_count": 21,
     "metadata": {},
     "output_type": "execute_result"
    }
   ],
   "source": [
    "def filter_long_word(list_of_words,n):\n",
    "    words = [word for word in list_of_words.split() if len(word)>n]\n",
    "    return words\n",
    "\n",
    "n = int(input(\"enter length of word to be\"))\n",
    "list_of_words = input(\"enter words of your choice\")\n",
    "filter_long_word(list_of_words,n)"
   ]
  },
  {
   "cell_type": "code",
   "execution_count": null,
   "metadata": {},
   "outputs": [],
   "source": []
  },
  {
   "cell_type": "code",
   "execution_count": null,
   "metadata": {},
   "outputs": [],
   "source": []
  },
  {
   "cell_type": "code",
   "execution_count": 3,
   "metadata": {},
   "outputs": [
    {
     "name": "stdout",
     "output_type": "stream",
     "text": [
      "enter length of word to be4\n",
      "enter words of your choicevery difficult in acheveing such output\n",
      "['difficult', 'acheveing', 'output']\n"
     ]
    }
   ],
   "source": [
    "def filter_long_word(list_of_words,n):\n",
    "    \n",
    "    word = [x for x in list_of_words.split() if len(x) > n]\n",
    "    print(word)\n",
    "\n",
    "n = int(input(\"enter length of word to be\"))\n",
    "list_of_words = input(\"enter words of your choice\")\n",
    "filter_long_word(list_of_words,n)"
   ]
  },
  {
   "cell_type": "markdown",
   "metadata": {},
   "source": []
  },
  {
   "cell_type": "code",
   "execution_count": null,
   "metadata": {},
   "outputs": [],
   "source": []
  },
  {
   "cell_type": "markdown",
   "metadata": {},
   "source": [
    "\n",
    "#### "
   ]
  },
  {
   "cell_type": "markdown",
   "metadata": {},
   "source": [
    "# Task 2.1"
   ]
  },
  {
   "cell_type": "markdown",
   "metadata": {},
   "source": [
    "Write a Python program using function concept that maps  list of words into a list of integers representing the lengths of the corresponding words​."
   ]
  },
  {
   "cell_type": "code",
   "execution_count": 21,
   "metadata": {},
   "outputs": [
    {
     "name": "stdout",
     "output_type": "stream",
     "text": [
      "enter any list of stringsjkf d vmnzmv n jsv \n"
     ]
    }
   ],
   "source": [
    "def list_word_integer(word_count):\n",
    "    l_count = []\n",
    "    l = [word for word in word_count if len(word)>1]\n",
    "    return l_count.append(l)\n",
    "word_count = input(\"enter any list of strings\")\n",
    "list_word_integer(word_count)"
   ]
  },
  {
   "cell_type": "code",
   "execution_count": 4,
   "metadata": {},
   "outputs": [
    {
     "name": "stdout",
     "output_type": "stream",
     "text": [
      "enter length of word to be4\n",
      "enter words of your choicei know the feeling of your feeling\n"
     ]
    },
    {
     "data": {
      "text/plain": [
       "['feeling', 'feeling']"
      ]
     },
     "execution_count": 4,
     "metadata": {},
     "output_type": "execute_result"
    }
   ],
   "source": [
    "def filter_long_word(list_of_words,n):\n",
    "    words = [word for word in list_of_words.split() if len(word)>n]\n",
    "    return words\n",
    "\n",
    "n = int(input(\"enter length of word to be\"))\n",
    "list_of_words = input(\"enter words of your choice\")\n",
    "filter_long_word(list_of_words,n)"
   ]
  },
  {
   "cell_type": "code",
   "execution_count": null,
   "metadata": {},
   "outputs": [],
   "source": []
  },
  {
   "cell_type": "code",
   "execution_count": null,
   "metadata": {},
   "outputs": [],
   "source": []
  },
  {
   "cell_type": "markdown",
   "metadata": {},
   "source": [
    "# Task 2.2"
   ]
  },
  {
   "cell_type": "code",
   "execution_count": 25,
   "metadata": {},
   "outputs": [
    {
     "name": "stdout",
     "output_type": "stream",
     "text": [
      "enter a character to check whether it is vowel or not\n",
      "i\n"
     ]
    },
    {
     "data": {
      "text/plain": [
       "True"
      ]
     },
     "execution_count": 25,
     "metadata": {},
     "output_type": "execute_result"
    }
   ],
   "source": [
    "char_in = input(\"enter a character to check whether it is vowel or not\\n\")\n",
    "def char_eval(char_in):\n",
    "    if (char_in =='a' or char_in =='e' or char_in =='i' or char_in =='o' or char_in =='u'):\n",
    "        return True\n",
    "    else:\n",
    "        return False\n",
    "char_eval(char_in)\n"
   ]
  },
  {
   "cell_type": "code",
   "execution_count": null,
   "metadata": {},
   "outputs": [],
   "source": []
  }
 ],
 "metadata": {
  "kernelspec": {
   "display_name": "Python 3",
   "language": "python",
   "name": "python3"
  },
  "language_info": {
   "codemirror_mode": {
    "name": "ipython",
    "version": 3
   },
   "file_extension": ".py",
   "mimetype": "text/x-python",
   "name": "python",
   "nbconvert_exporter": "python",
   "pygments_lexer": "ipython3",
   "version": "3.7.3"
  }
 },
 "nbformat": 4,
 "nbformat_minor": 2
}
