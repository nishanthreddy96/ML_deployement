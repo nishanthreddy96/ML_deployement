{
 "cells": [
  {
   "cell_type": "markdown",
   "metadata": {},
   "source": [
    "# Q1. How can we create an iterator object from a list? \n",
    "a) Bypassing the given list to the iter() function \n",
    "\n",
    "b) By using a for a loop. \n",
    "\n",
    "c) By using a while loop. \n",
    "\n",
    "d) You cannot create an iterable object "
   ]
  },
  {
   "cell_type": "markdown",
   "metadata": {},
   "source": [
    "# Ans: b"
   ]
  },
  {
   "cell_type": "markdown",
   "metadata": {},
   "source": [
    "# Q2. If the function contains at least of one “yield” statement, then it   becomes ______ \n",
    " \n",
    "        Choose one a) An iterable \n",
    "b) a generator function \n",
    "c) an anonymous function \n",
    "d) None of the above "
   ]
  },
  {
   "cell_type": "markdown",
   "metadata": {},
   "source": [
    "# Ans: b"
   ]
  },
  {
   "cell_type": "markdown",
   "metadata": {},
   "source": [
    "# Q3. What is the output of the code? \n",
    " \n",
    "1. mylist =  [1, 3, 6, 10]\n",
    "\n",
    "2. a = (x**2 for x in mylist)\n",
    "\n",
    "3. print(next(a), next(a)) "
   ]
  },
  {
   "cell_type": "markdown",
   "metadata": {},
   "source": [
    "# Ans: b"
   ]
  },
  {
   "cell_type": "markdown",
   "metadata": {},
   "source": [
    "# Q4. What are the criteria that must be met to create closure in Python?\n",
    "\n",
    "a) The program Must have the function inside the function. \n",
    "\n",
    "b) The nested function must refer to the value defined in the enclosing function. \n",
    "\n",
    "c) The enclosing function must return the nested \n",
    "\n",
    "d) All of the above."
   ]
  },
  {
   "cell_type": "markdown",
   "metadata": {},
   "source": [
    "# Ans: b"
   ]
  },
  {
   "cell_type": "markdown",
   "metadata": {},
   "source": [
    "# Q5. What is the output of the code? \n",
    " \n",
    "1. def Foo(n):\n",
    "\n",
    "def multiplier(x): \n",
    "\n",
    "return x * n \n",
    "\n",
    "return multiplier\n",
    "\n",
    "a = Foo(5)\n",
    "\n",
    "b = Foo(5)\n",
    "\n",
    "print(a(b(2)))\n",
    "\n",
    "a) 25. \n",
    "\n",
    "b) 100\n",
    "\n",
    "c) 10 \n",
    "\n",
    "d) 50 "
   ]
  },
  {
   "cell_type": "markdown",
   "metadata": {},
   "source": [
    "# Ans: d"
   ]
  },
  {
   "cell_type": "markdown",
   "metadata": {},
   "source": [
    "# Q6. What is the output of the code? \n",
    "def make_pretty(func):\n",
    "\n",
    "def inner():\n",
    "\n",
    "print(\"I got decorated\") \n",
    "\n",
    "func()\n",
    "\n",
    "return inner \n",
    "\n",
    "def ordinary(): \n",
    "\n",
    "print(\"I am ordinary\") \n",
    "\n",
    "pretty = make_pretty(ordinary)\n",
    "\n",
    "pretty() \n",
    "\n",
    "    a) I got decorated \n",
    "\n",
    "    b) I am pretty \n",
    "\n",
    "    c) I got decorated     \n",
    "        I am ordinary\n",
    "\n",
    "    d) I am ordinary     \n",
    "    I got decorated "
   ]
  },
  {
   "cell_type": "markdown",
   "metadata": {},
   "source": [
    "# Ans: C"
   ]
  },
  {
   "cell_type": "markdown",
   "metadata": {},
   "source": [
    "# Q7: What is the more pythonic way to use getters and setters? \n",
    "a) Decorators b) Generators. c) Iterators d) @property"
   ]
  },
  {
   "cell_type": "code",
   "execution_count": null,
   "metadata": {},
   "outputs": [],
   "source": []
  },
  {
   "cell_type": "markdown",
   "metadata": {},
   "source": [
    "# Q8. In Python, there is a built-in function property() that returns a property object. The property object has which of the methods? \n",
    "a) getter() and setter() \n",
    "\n",
    "b) getter(), setter() and delete() \n",
    "\n",
    "c) getter() and delete()\n",
    "\n",
    "d) setter() and delete() "
   ]
  },
  {
   "cell_type": "markdown",
   "metadata": {},
   "source": [
    "# Ans:b"
   ]
  },
  {
   "cell_type": "markdown",
   "metadata": {},
   "source": [
    "# Q9. Which of the following statement is true? \n",
    "a) You cannot chain multiple decorators in Python. b) Decorators don’t work with functions that take parameters. c) The @ symbol doesn’t have any use while using decorators. d) None of the above "
   ]
  },
  {
   "cell_type": "markdown",
   "metadata": {},
   "source": [
    "# Ans: d"
   ]
  },
  {
   "cell_type": "markdown",
   "metadata": {},
   "source": [
    "# Q10. For the following codes, which of the following statements is true? \n",
    " \n",
    "def printHello(): \n",
    "\n",
    "    print(\"Hello\")\n",
    "\n",
    "a = printHello() \n",
    " \n",
    "a) Print Hello() is a function, and a is a variable. None of them are objects.\n",
    "\n",
    "b) Both printHello() and the reference to the same object. \n",
    "\n",
    "c) Print Hello() and the reference to different objects. \n",
    "\n",
    "d) Syntax error! You cannot assign functio"
   ]
  },
  {
   "cell_type": "markdown",
   "metadata": {},
   "source": [
    "# Ans: b"
   ]
  },
  {
   "cell_type": "markdown",
   "metadata": {},
   "source": [
    "# Q11. What is the output of the program? \n",
    "1. def outerFunction():\n",
    "2.     global a \n",
    "3.     a = 20 \n",
    "4.     def innerFunction():\n",
    "5.         global a \n",
    "6.         a = 30\n",
    "7.         print('a =', a)  \n",
    "8. a = 10 \n",
    "9. outerFunction() \n",
    "10. print('a =',a)\n",
    "\n",
    "a) a = 10 a = 30 b) a = 10 c) a = 2 d) a = 30 "
   ]
  },
  {
   "cell_type": "markdown",
   "metadata": {},
   "source": [
    "# Ans: a=20"
   ]
  },
  {
   "cell_type": "code",
   "execution_count": null,
   "metadata": {},
   "outputs": [],
   "source": []
  },
  {
   "cell_type": "code",
   "execution_count": null,
   "metadata": {},
   "outputs": [],
   "source": []
  },
  {
   "cell_type": "markdown",
   "metadata": {},
   "source": [
    "# Q12. Which of the following statements is true? \n",
    "\n",
    "a) A class is a blueprint for the object.\n",
    "b) You can only make the single object from the given class \n",
    "c) Both statements are true.\n",
    "d) Neither statement is true"
   ]
  },
  {
   "cell_type": "markdown",
   "metadata": {},
   "source": [
    "# Ans:C"
   ]
  },
  {
   "cell_type": "markdown",
   "metadata": {},
   "source": [
    "Q13. What is the output of the code? \n",
    " \n",
    "1. class Foo:\n",
    "2.   def printLine(self, line='Python'):\n",
    "3.     print(line) \n",
    "4.    \n",
    "5. o1 = Foo()\n",
    "6. o1.printLine('Java')\n",
    "\n",
    "a) Python b) Line c) Java \n",
    " \n",
    "d) Java Python"
   ]
  },
  {
   "cell_type": "markdown",
   "metadata": {},
   "source": [
    "# Ans: C"
   ]
  },
  {
   "cell_type": "markdown",
   "metadata": {},
   "source": [
    "Q14. What is the function of the __init__() function in Python? \n",
    " \n",
    "a) Initialises the class for use. b) This function is called, when the new object is instantiated c) Initialises all the data attributes to zero when called d) None of the above."
   ]
  },
  {
   "cell_type": "markdown",
   "metadata": {},
   "source": [
    "# Ans: b"
   ]
  },
  {
   "cell_type": "markdown",
   "metadata": {},
   "source": [
    "Q15. What is the output of the code? \n",
    " \n",
    "1. class Point:\n",
    "2.     def __init__(self, x = 0, y = 0):\n",
    "3.       self.x = x+1 \n",
    "4.       self.y = y+1 \n",
    "5.        \n",
    "6. p1 = Point() \n",
    "7. print(p1.x, p1.y)\n",
    "\n",
    "a) 0 0 b) 1 1 c) None None d) x y "
   ]
  },
  {
   "cell_type": "markdown",
   "metadata": {},
   "source": [
    "# Ans: b"
   ]
  },
  {
   "cell_type": "markdown",
   "metadata": {},
   "source": [
    "Q16. Which of the following code used the inheritance feature?  \n",
    "a) 1. Class Foo:\n",
    "    Pass \n",
    "\n",
    "b)1. class Foo(object):\n",
    "2.   pass \n",
    "3. class Hoo(object):\n",
    "\n",
    "      pass \n",
    " \n",
    " c) 1. class Foo:\n",
    " 2.     pass \n",
    " 3. class Hoo(Foo):\n",
    " pass \n",
    " \n",
    "d) None of the above code"
   ]
  },
  {
   "cell_type": "markdown",
   "metadata": {},
   "source": [
    "# Ans: C"
   ]
  },
  {
   "cell_type": "markdown",
   "metadata": {},
   "source": [
    "# Q17 If you a class is derived from two different classes, it’s called ______ \n",
    "a) Multilevel inheritance b) Multiple Inheritance \n",
    " \n",
    "c) Hierarchical Inheritance d) Python Inheritance "
   ]
  },
  {
   "cell_type": "markdown",
   "metadata": {},
   "source": [
    "# Ans: b"
   ]
  },
  {
   "cell_type": "markdown",
   "metadata": {},
   "source": [
    "Q18. Which of the following statements is true?\n",
    "\n",
    "a) In Python, the same operator may behave differently depends upon the operands.\n",
    "\n",
    "b) You can change the way operators which behave in Python. \n",
    "\n",
    "c) Special method __add()__ is called when + operator\n",
    "\n",
    "d) All of the above. "
   ]
  },
  {
   "cell_type": "markdown",
   "metadata": {},
   "source": [
    "# Ans: b"
   ]
  },
  {
   "cell_type": "markdown",
   "metadata": {},
   "source": [
    "Q19. What is the output of the code? \n",
    "1. class Point:\n",
    "2.  \n",
    "3.     def __init__(self, x = 0, y = 0):\n",
    "4.       self.x = x \n",
    "5.       self.y = y \n",
    "6.   \n",
    "7.     def __sub__(self, other):\n",
    "8.         x = self.x + other.x \n",
    "9.         y = self.y + other.y \n",
    "10.         return Point(x,y) \n",
    "11.          \n",
    "12. p1 = Point(3, 4) \n",
    "13. p2 = Point(1, 2) \n",
    "14. result = p1-p2 \n",
    "15. print(result.x, result.y) \n",
    "\n",
    "a) 2 2 \n",
    "b) 4 6 \n",
    "c) 0 0 \n",
    "d) 1 1 "
   ]
  },
  {
   "cell_type": "markdown",
   "metadata": {},
   "source": [
    "# Ans: b"
   ]
  },
  {
   "cell_type": "markdown",
   "metadata": {},
   "source": [
    "Q20. Opening a file in ‘a’ mode \n",
    "\n",
    "a) opens a file for reading\n",
    "\n",
    "b) opens a file for writing \n",
    "\n",
    "c) opens the file for appending, at the end of file \n",
    "\n",
    "d) opens a file for exclusive creation \n"
   ]
  },
  {
   "cell_type": "markdown",
   "metadata": {},
   "source": [
    "# Ans: c"
   ]
  },
  {
   "cell_type": "markdown",
   "metadata": {},
   "source": [
    "# Q21. What does the following code do?     \n",
    "f = open(\"test.txt\") \n",
    "\n",
    "a) Opens test.txt file for both reading and writing \n",
    "\n",
    "b) Opens test.txt file for reading only \n",
    "\n",
    "c) Opens test.txt file for writing only \n",
    "\n",
    "d) Opens test.txt file in god mode\n"
   ]
  },
  {
   "cell_type": "markdown",
   "metadata": {},
   "source": [
    "# Ans: b"
   ]
  },
  {
   "cell_type": "markdown",
   "metadata": {},
   "source": [
    "Q22. Which of the codes closes files automatically if an exception  \n",
    " occurs? \n",
    " \n",
    "Choose one \n",
    "\n",
    "a) 1.   with open(\"test.txt\", encoding = 'utf-8')  as  f: \n",
    "2.    perform file operation \n",
    " \n",
    "b) 1. try: \n",
    "2.      f = open(\"test.txt\",encoding = 'utf-8')\n",
    "3.       perform file operations \n",
    "4. finally: \n",
    "5.     f.close() \n",
    " \n",
    "c) None of the above \n",
    "d) Both of the above"
   ]
  },
  {
   "cell_type": "markdown",
   "metadata": {},
   "source": [
    "# Ans: d"
   ]
  },
  {
   "cell_type": "code",
   "execution_count": 47,
   "metadata": {},
   "outputs": [
    {
     "data": {
      "text/plain": [
       "'hello'"
      ]
     },
     "execution_count": 47,
     "metadata": {},
     "output_type": "execute_result"
    }
   ],
   "source": [
    "f = open('experiment.txt','r')\n",
    "f.read(5)"
   ]
  },
  {
   "cell_type": "markdown",
   "metadata": {},
   "source": [
    "Q23. For the following code, \n",
    "1. f = open('test.txt', 'r', encoding = 'utf-8') \n",
    "2. f.read()\n",
    "\n",
    "Which of the following statement is true \n",
    "\n",
    "a) This program reads the content of the test.txt file. b) If test.txt contains a newline, read() will return the newline as ‘\\n’. c) You can pass an integer to the read() method d) All of the above. "
   ]
  },
  {
   "cell_type": "markdown",
   "metadata": {},
   "source": [
    "# Ans: d"
   ]
  },
  {
   "cell_type": "markdown",
   "metadata": {},
   "source": [
    "Q24. What does the following code do?\n",
    "\n",
    "os.listdir() \n",
    "\n",
    "a) Prints the current working directory. \n",
    "b) Prints the current working directory. \n",
    "c) Prints all the directories and files inside the given directory \n",
    "d) Make a new director"
   ]
  },
  {
   "cell_type": "markdown",
   "metadata": {},
   "source": [
    "## Ans:c"
   ]
  },
  {
   "cell_type": "markdown",
   "metadata": {},
   "source": [
    "Q25. Which of the following is correct?\n",
    "\n",
    "a) An exception is an error that occurs in the runtime. \n",
    "b) A syntax error is also an exception. \n",
    "c) An exception is used to exclude a block of code in python.\n",
    "d) All of the above"
   ]
  },
  {
   "cell_type": "markdown",
   "metadata": {},
   "source": [
    "# Ans: a"
   ]
  },
  {
   "cell_type": "markdown",
   "metadata": {},
   "source": [
    "Q26. What will happen if we try to open the file that doesn’t exist?\n",
    "\n",
    "a) A new file is created. \n",
    "b) Nothing will happen. \n",
    "c) An exception is raised.\n",
    "d) None of the above "
   ]
  },
  {
   "cell_type": "markdown",
   "metadata": {},
   "source": [
    "# Ans: c"
   ]
  },
  {
   "cell_type": "markdown",
   "metadata": {},
   "source": [
    "Q27. What is the output of the code? \n",
    " \n",
    "1. number = 5.0 \n",
    "2. try: \n",
    "       r = 10/number\n",
    "4.     print(r)\n",
    "5. except: \n",
    "6.     print(\"Oops! Error occurred.\")\n",
    "\n",
    "\n",
    "a) Oops! Error occurred \n",
    "\n",
    "b) 2.0 \n",
    "\n",
    "c) 2.0 Oops! Error occurred. \n",
    "\n",
    "d) None object "
   ]
  },
  {
   "cell_type": "markdown",
   "metadata": {},
   "source": [
    "# Ans: b"
   ]
  },
  {
   "cell_type": "markdown",
   "metadata": {},
   "source": [
    "Q28. What does the following code do? \n",
    " \n",
    "1. try: \n",
    "2.    ###code that can raise an error \n",
    "3.    pass \n",
    "4.    \n",
    "5. except (TypeError, ZeroDivisionError): \n",
    "6.   print(\"Two\") \n",
    " \n",
    "a) Prints Two if an exception occurs (doesn’t matter which exception). \n",
    "\n",
    "b) Prints Two if exception doesn’t occur. \n",
    "\n",
    "c) Prints Two if the TypeError or ZeroDivisionError exception occurs. \n",
    "\n",
    "d) Prints Two only if both TypeError and ZeroDivisionError exception occur. "
   ]
  },
  {
   "cell_type": "markdown",
   "metadata": {},
   "source": [
    "# Ans: c"
   ]
  },
  {
   "cell_type": "markdown",
   "metadata": {},
   "source": [
    "Q29. Which of the following statement is true? \n",
    "\n",
    "a) You cannot create custom exceptions in Python.\n",
    "\n",
    "b) You can create the user-defined exception by deriving a class from Exception class. \n",
    "\n",
    "c) You can create a user-defined exception by deriving a class from Error class. \n",
    "\n",
    "d) None of the above."
   ]
  },
  {
   "cell_type": "markdown",
   "metadata": {},
   "source": [
    "# Ans:  d"
   ]
  },
  {
   "cell_type": "markdown",
   "metadata": {},
   "source": [
    "Q30. Which of the following statement is true? \n",
    "\n",
    "a) Functions are used to create objects in Python.\n",
    "\n",
    "b) Functions make your program run faster. \n",
    "\n",
    "c) The function is a piece of code that can perform a specific task. \n",
    "\n",
    "d) All of the above "
   ]
  },
  {
   "cell_type": "markdown",
   "metadata": {},
   "source": [
    "# Ans:d"
   ]
  },
  {
   "cell_type": "markdown",
   "metadata": {},
   "source": [
    "Q31. What is the output of the code? \n",
    "\n",
    "1. def printLine(text):\n",
    "2.   print(text, 'is awesome.') \n",
    "4. printLine('Python')\n",
    "\n",
    "a) Python b) Python is awesome. c) Text is awesome. d) Is awesome. "
   ]
  },
  {
   "cell_type": "markdown",
   "metadata": {},
   "source": [
    "# Ans: b"
   ]
  },
  {
   "cell_type": "markdown",
   "metadata": {},
   "source": [
    "Q32. If the return statement is not used inside the function, the function will return: \n",
    "\n",
    "a) 0 \n",
    "b) None object\n",
    "c) an arbitrary integer \n",
    "d) Error! Functions in Python must have a return statement. "
   ]
  },
  {
   "cell_type": "markdown",
   "metadata": {},
   "source": [
    "# Ans: b"
   ]
  },
  {
   "cell_type": "markdown",
   "metadata": {},
   "source": [
    "Q33. What is the output of the code? \n",
    " \n",
    "1. def greetPerson(*name):\n",
    "2.   print('Hello', name)\n",
    "3. \n",
    "4. greetPerson('Frodo', 'Sauron') \n",
    " \n",
    "a) Hello Frodo Hello Sauron \n",
    " \n",
    "b) Hello ('Frodo', 'Sauron') \n",
    " \n",
    "c) Hello Frodo \n",
    " \n",
    "d) Syntax Error! Great person() can take only one argument"
   ]
  },
  {
   "cell_type": "markdown",
   "metadata": {},
   "source": [
    "# Ans: b"
   ]
  },
  {
   "cell_type": "markdown",
   "metadata": {},
   "source": [
    "Q34. What is a recursive function? \n",
    "Choose one \n",
    "\n",
    "a) A function that calls all the functions in the program.\n",
    "\n",
    "b) A function that calls itself. \n",
    "\n",
    "c) A function that that calls all the functions in the program except itself.\n",
    "\n",
    "d) There is no such thing as a recursive function in Python."
   ]
  },
  {
   "cell_type": "markdown",
   "metadata": {},
   "source": [
    "# Ans: b"
   ]
  },
  {
   "cell_type": "markdown",
   "metadata": {},
   "source": [
    "Q35. What is the output of the program? \n",
    " \n",
    "1. result = lambda x: x * x \n",
    "2. print(result(5)) \n",
    " \n",
    "a) lambda x: x*x \n",
    "\n",
    "b) 10\n",
    "\n",
    "c) 25 \n",
    "\n",
    "d) 5*5 "
   ]
  },
  {
   "cell_type": "markdown",
   "metadata": {},
   "source": [
    "# Ans: c"
   ]
  },
  {
   "cell_type": "markdown",
   "metadata": {},
   "source": [
    "Q36. What is the output of the program? \n",
    " \n",
    "1. def Foo(x): \n",
    "2.   if (x==1): \n",
    "3.     return 1 \n",
    "4.   else: \n",
    "5.     return x+Foo(x-1) \n",
    "6.\n",
    "7. print(Foo(4)) \n",
    " \n",
    "a) 10 \n",
    "\n",
    "b) 24\n",
    "\n",
    "c) 7 \n",
    "\n",
    "d) 1 "
   ]
  },
  {
   "cell_type": "markdown",
   "metadata": {},
   "source": [
    "# Ans: a"
   ]
  },
  {
   "cell_type": "markdown",
   "metadata": {},
   "source": [
    "Q37. Suppose you need to print pi constant defined in the math module. Which of the following code can do this task? \n",
    " \n",
    "a) print(math.pi) b) print(pi) c)  1. from math import pi 2. print(pi) d) 1. from math import pi 2. print(math.pi)"
   ]
  },
  {
   "cell_type": "markdown",
   "metadata": {},
   "source": [
    "# Ans: from math import pi\n",
    "            print(pi)"
   ]
  },
  {
   "cell_type": "markdown",
   "metadata": {},
   "source": [
    "Q38. Which operator is used in Python to import modules from the packages? \n",
    "Choose one \n",
    "a). operator \n",
    "b) * operator \n",
    "c) -> symbol \n",
    "d) , operator "
   ]
  },
  {
   "cell_type": "markdown",
   "metadata": {},
   "source": [
    "# Ans: a"
   ]
  },
  {
   "cell_type": "markdown",
   "metadata": {},
   "source": [
    "Q39. What is the output of the code? \n",
    " \n",
    "1. numbers = [1, 3, 6]\n",
    "2. newNumbers = tuple(map(lambda x: x , numbers)) \n",
    "3. print(newNumbers) \n",
    " \n",
    "a) [1, 3, 6] b) (1, 3, 6) c) [2, 6, 12] d) (2, 6, 12)"
   ]
  },
  {
   "cell_type": "markdown",
   "metadata": {},
   "source": [
    "# Ans: b"
   ]
  },
  {
   "cell_type": "markdown",
   "metadata": {},
   "source": [
    "Q40. What is the output of the code? \n",
    " \n",
    "1. if None: \n",
    "2.     print(“Hello”) \n",
    " \n",
    "a) False b) Hello c) Nothing will be printed d) Syntax error "
   ]
  },
  {
   "cell_type": "markdown",
   "metadata": {},
   "source": [
    "# Ans: c"
   ]
  },
  {
   "cell_type": "markdown",
   "metadata": {},
   "source": [
    "Q41. The if-elif-else executes only one block of code among several blocks. \n",
    "\n",
    "a) True. \n",
    "\n",
    "b) False\n",
    "\n",
    "c) It depends on the expression used.\n",
    "\n",
    "d) There is no elif statement in Python"
   ]
  },
  {
   "cell_type": "markdown",
   "metadata": {},
   "source": [
    "# Ans: a"
   ]
  },
  {
   "cell_type": "markdown",
   "metadata": {},
   "source": [
    "Q42. What is the output of the code? \n",
    " \n",
    "1. for i in [1, 0]: 2.   print(i+1) \n",
    " \n",
    "a) 2  \n",
    "\n",
    "    1 \n",
    " \n",
    "b) [2, 1] \n",
    "\n",
    "c) 2\n",
    "\n",
    "    0 \n",
    " \n",
    "d) [2, 0]"
   ]
  },
  {
   "cell_type": "markdown",
   "metadata": {},
   "source": [
    "# Ans: a"
   ]
  },
  {
   "cell_type": "markdown",
   "metadata": {},
   "source": [
    "Q43. In the Python, for and while loop can have the optional else   statement? \n",
    "\n",
    "a) Only for loop can have the optional else statement \n",
    "\n",
    "b) Only while loop can have the optional else statement \n",
    "\n",
    "c) Both loops can have optional else statement\n",
    "\n",
    "d) Loops cannot have else statement in Python"
   ]
  },
  {
   "cell_type": "markdown",
   "metadata": {},
   "source": [
    "# Ans: c"
   ]
  },
  {
   "cell_type": "markdown",
   "metadata": {},
   "source": [
    "Q44. What is the output of the code? \n",
    " \n",
    "1. i = sum = 0 \n",
    "2. \n",
    "3. while i <= 4:\n",
    "4.     sum += i \n",
    "5.     i = i+1\n",
    "6. \n",
    "7. print(sum) \n",
    " \n",
    "a) 0\n",
    "\n",
    "b) 10 \n",
    "\n",
    "c) 4 \n",
    "\n",
    "d) None of the above "
   ]
  },
  {
   "cell_type": "markdown",
   "metadata": {},
   "source": [
    "# Ans: b"
   ]
  },
  {
   "cell_type": "markdown",
   "metadata": {},
   "source": [
    "Q45. What is the output of the code? \n",
    " \n",
    "1. while 4 == 4: \n",
    "2.     print('4') \n",
    " \n",
    "a) 4 is printed once\n",
    "\n",
    "b) 4 is printed four times \n",
    "\n",
    "c) 4 is printed infinitely until the program closes \n",
    "\n",
    "d) Syntax error "
   ]
  },
  {
   "cell_type": "markdown",
   "metadata": {},
   "source": [
    "# Ans: a"
   ]
  },
  {
   "cell_type": "markdown",
   "metadata": {},
   "source": [
    "Q45. What is the output of the code? \n",
    " \n",
    "1. while 4 == 4: \n",
    "2.     print('4') \n",
    " \n",
    "a) 4 is printed once \n",
    "\n",
    "b) 4 is printed four times \n",
    "\n",
    "c) 4 is printed infinitely until the program closes \n",
    "\n",
    "d) Syntax error"
   ]
  },
  {
   "cell_type": "markdown",
   "metadata": {},
   "source": [
    "# Ans:c"
   ]
  },
  {
   "cell_type": "markdown",
   "metadata": {},
   "source": [
    "Q46. Is it better to use the for loop instead of while if we are iterating   through a sequence?   \n",
    "\n",
    "a) No, it’s better to use the while loop. \n",
    "\n",
    "b) Yes, for loop is more pythonic choice. \n",
    "\n",
    "c) No, we cannot iterate through a sequence using a while loop. \n",
    "\n",
    "d) No, we cannot iterate through a sequence using loops."
   ]
  },
  {
   "cell_type": "markdown",
   "metadata": {},
   "source": [
    "# Ans: b"
   ]
  },
  {
   "cell_type": "markdown",
   "metadata": {},
   "source": [
    "Q47. Which of the following statement is true?\n",
    "\n",
    "a)  “break”- It terminates the loop containing it. \n",
    "\n",
    "b)  “continue” - It is used to skip the rest of the code inside the loops. \n",
    "\n",
    "c)     break and continue: These are almost always used with if, if...else and if...elif...else    statements.\n",
    "\n",
    "d) All of the above"
   ]
  },
  {
   "cell_type": "markdown",
   "metadata": {},
   "source": [
    "# Ans: d"
   ]
  },
  {
   "cell_type": "markdown",
   "metadata": {},
   "source": [
    "Q48. What is the output of the code? \n",
    "1. for char in 'PYTHON STRING': \n",
    "2.   if char == ' ': \n",
    "3.       break\n",
    "5.    print(char, end='') \n",
    "6.    \n",
    "7.   if char == 'O': \n",
    "8.       continue\n",
    "\n",
    "a) PYTHON \n",
    "\n",
    "b) PYTHONSTRING \n",
    "\n",
    "c) PYTHN \n",
    "\n",
    "d) STRING"
   ]
  },
  {
   "cell_type": "markdown",
   "metadata": {},
   "source": [
    "# Ans: b"
   ]
  },
  {
   "cell_type": "markdown",
   "metadata": {},
   "source": [
    "Q49. Which of the statement is true about the “pass”   statement? \n",
    " \n",
    "a) Python interpreter- It ignores the “pass” statement like comments.\n",
    "b) Pass statement: It terminates the loop containing pass statement. c) It is used as the placeholder for future implementation of functions, loops, etc d) All of the above."
   ]
  },
  {
   "cell_type": "markdown",
   "metadata": {},
   "source": [
    "# Ans: c"
   ]
  },
  {
   "cell_type": "markdown",
   "metadata": {},
   "source": [
    "Q50. In regards to separated value files such as .csv and .tsv, what is   the delimiter? \n",
    " \n",
    "a) Anywhere the comma (,) character is used in the file. b) Delimiters are not used in separated value files. c) Any character such as the comma (,) or tab (\\t) that is used to separate the column data. d) Any character such as the comma (,) or tab (\\t) that is used to separate the row data "
   ]
  },
  {
   "cell_type": "markdown",
   "metadata": {},
   "source": [
    "# Ans: d"
   ]
  },
  {
   "cell_type": "markdown",
   "metadata": {},
   "source": [
    "Q51. In separated value files such as .csv and .tsv, what does the first   row in the file typically contain? \n",
    " \n",
    "a) The column names of the data. b) The author of the table data. c) The source of the data d) Notes about the table data "
   ]
  },
  {
   "cell_type": "markdown",
   "metadata": {},
   "source": [
    "# Ans: a"
   ]
  },
  {
   "cell_type": "markdown",
   "metadata": {},
   "source": [
    "Q52. Assume you have a file object my_data, which has properly opened a separated value file that uses the tab character (\\t) as the delimiter. \n",
    "What is the proper way to open the file using the Python CSV module and assign it to the variable csv_reader? \n",
    "\n",
    "Assume that csv has already been imported. \n",
    "a) csv.tab_reader(my_data) \n",
    " \n",
    "b) csv.reader(my_data, delimiter='\\t') c) csv.reader(my_data) d) csv.reader(my_data, tab_delimited=True)"
   ]
  },
  {
   "cell_type": "markdown",
   "metadata": {},
   "source": [
    "# Ans: b"
   ]
  },
  {
   "cell_type": "markdown",
   "metadata": {},
   "source": [
    "Q53. When iterating over an object returned from csv.reader(), what is returned with each iteration? \n",
    "For example, given the following code block that assumes csv_reader is an object returned from csv.reader(), what would be printed to the console with each iteration? \n",
    "\n",
    "for item in csv_reader:  \n",
    "    print(item) \n",
    " \n",
    "a) The full line of the file as a string b) The row data as a list c) The individual value data that is separated by the delimiter d) The column data as a list "
   ]
  },
  {
   "cell_type": "markdown",
   "metadata": {},
   "source": [
    "# Ans: b"
   ]
  },
  {
   "cell_type": "markdown",
   "metadata": {},
   "source": [
    "Q54. When writing to a CSV file using the .writerow() method of  \n",
    " the csv.DictWriter object, what must each key in the  \n",
    " input dict represent? Below is an example: \n",
    "with open('test_file.csv', mode='w') as csv_file: \n",
    " \n",
    "    writer = csv.DictWriter\n",
    "    ( \n",
    "    csv_file,\n",
    "    fieldnames=['first_col', 'second_col']\n",
    "    )\n",
    "    \n",
    "    writer.writeheader() \n",
    " \n",
    "    # This input dictionary is what the question is referring     # to and is not necessarily correct as shown.     \n",
    "    \n",
    "    writer.writerow({'key1':'value1', 'key2':'value2'}) \n",
    "    \n",
    "    \n",
    "a) Each key indicates the row index as an integer for where the data should go \n",
    "\n",
    "b) Each key must match up to the field names (index names) used to identify the row data \n",
    "\n",
    "c) Each key must match up to the field names (column names) used to identify the column data \n",
    "\n",
    "d) Each key indicates the column index as an integer for where the value should g"
   ]
  },
  {
   "cell_type": "markdown",
   "metadata": {},
   "source": [
    "# Ans: d"
   ]
  },
  {
   "cell_type": "markdown",
   "metadata": {},
   "source": [
    "Q55. Which is the correct way to open the CSV file hrdata.csv for   reading using the pandas package? Assume that the pandas   package has already been imported. \n",
    " \n",
    "a) pandas.open_csv('hrdata.csv', 'r') b) pandas.read_table('hrdata.csv') c) pandas.read_csv('hrdata.csv') d) pandas.open('hrdata.csv','r') "
   ]
  },
  {
   "cell_type": "markdown",
   "metadata": {},
   "source": [
    "# Ans: c"
   ]
  },
  {
   "cell_type": "markdown",
   "metadata": {},
   "source": [
    "Q56. By default, pandas uses 0-based indices for indexing rows. Which  \n",
    " is the correct way to import the CSV file hrdata.csv  \n",
    " for reading and using the 'Name' column as the index row instead? \n",
    "Below is the contents of hrdata.csv \n",
    "\n",
    "Name,Hire Date,Salary,Sick Days remaining \n",
    "\n",
    "Fred,10/10/10,10000,10 \n",
    " \n",
    "a) pandas.read_csv('hrdata.csv', index_col='Name') b) pandas.read_csv('hrdata.csv', index=0, index_col_name='Name') c) pandas.read_csv('hrdata.csv', index='Name') d) pandas.read_csv('hrdata.csv', index_col=0)"
   ]
  },
  {
   "cell_type": "markdown",
   "metadata": {},
   "source": [
    "# Ans: c"
   ]
  },
  {
   "cell_type": "markdown",
   "metadata": {},
   "source": [
    "Q57. Given the file dog_breeds.txt, which of the following is the correct   way to open the file for reading as a text file? Select all that apply. a) open('dog_breeds.txt', 'w') b) open('dog_breeds.txt', 'r') c) open('dog_breeds.txt') d) open('dog_breeds.txt', 'wb') e) open('dog_breeds.txt', 'rb')\n",
    "\n",
    "# Ans: b,c,e"
   ]
  },
  {
   "cell_type": "markdown",
   "metadata": {},
   "source": [
    "Q58. Given the following directory structure: \n",
    "\n",
    "animals/ \n",
    "\n",
    "│\n",
    "\n",
    "├── feline/\n",
    "\n",
    "│   ├── lions.gif\n",
    "\n",
    "│   └── tigers.gif\n",
    "\n",
    "│\n",
    "\n",
    "├── ursine/ \n",
    "\n",
    "│   └── bears.gif\n",
    "\n",
    "│ \n",
    "\n",
    "└── animals.csv \n",
    "\n",
    "Assuming that the cwd is in the root folder where animals reside, what is the full path to the feline folder\n",
    "\n",
    "# Ans: animals/ feline/"
   ]
  },
  {
   "cell_type": "markdown",
   "metadata": {},
   "source": [
    "Q59. Given the file jack_russell.png, which of the following is the correct   way to open the file for reading as a buffered binary file? Select   all that apply. \n",
    " \n",
    "open('jack_russell.png', 'rb') \n",
    "\n",
    "open('jack_russell.png', bytes=True) \n",
    "\n",
    "open('jack_russell.png', 'r') \n",
    "\n",
    "open('jack_russell.png') \n",
    "\n",
    "open('jack_russell.png', 'wb')\n",
    "# Ans: open('jack_russell.png', bytes=True)"
   ]
  },
  {
   "cell_type": "markdown",
   "metadata": {},
   "source": [
    "Q60. Using the same directory structure as before: \n",
    " \n",
    "animals/ \n",
    "│ \n",
    "\n",
    "├── feline/ \n",
    "│   ├── lions.gif\n",
    "\n",
    "│   └── tigers.gif \n",
    " \n",
    "│ \n",
    "├── ursine/\n",
    "\n",
    "│   └── bears.gif \n",
    "\n",
    "│ \n",
    "\n",
    "└── animals.csv \n",
    "\n",
    "Assuming that the cwd is in the root folder where Animals reside, what is the full path to the file bears.gif?\n",
    "\n",
    "# Ans: animals/ursine/bears.gif"
   ]
  },
  {
   "cell_type": "markdown",
   "metadata": {},
   "source": [
    "Q61. Whenever possible, what is the recommended way to ensure that   a file object is properly closed after usage?  \n",
    "\n",
    "a) Making sure that you use the .close() method before the end of the script b) It doesn’t matter c) By using the try/finally block d) By using the with statement\n",
    "\n",
    "# Ans: c"
   ]
  },
  {
   "cell_type": "markdown",
   "metadata": {},
   "source": [
    "Q62. Using the same directory structure as before: \n",
    "animals/ \n",
    "\n",
    "│\n",
    "\n",
    "├── feline/  ← cwd \n",
    "\n",
    "│ ├── lions.gif\n",
    "\n",
    "│ └── tigers.gif\n",
    "\n",
    "│\n",
    "\n",
    "├── ursine/\n",
    "\n",
    "│   └── bears.gif\n",
    "   \n",
    "   └── animals.csv\n",
    "   \n",
    "Assuming that the cwd is in the feline folder, what is the relative path to the file bears.gif? \n",
    "\n",
    "# Ans: ursine/bears.gif"
   ]
  },
  {
   "cell_type": "markdown",
   "metadata": {},
   "source": [
    "Q63. When reading a file using the file object, what method is best for   reading the entire file into a single string? a) .read_file_to_str() b) .read() c) .readlines() d) .readline()\n",
    "\n",
    "# Ans: a"
   ]
  },
  {
   "cell_type": "markdown",
   "metadata": {},
   "source": [
    "Q64.  The value 1.73 rounded to one decimal place using the “rounding   up” strategy is… a) 1.8 b) 1.7 \n",
    "\n",
    "# Ans: a\n",
    "\n",
    "Q65. The value -2.961 rounded to two decimal places using the   “rounding down” strategy is… a) -2.96 b) -2.97 \n",
    "\n",
    "# Ans: b\n",
    "\n",
    "Q66. When a value is truncated to 3 decimal places, which of the   following is true? a) Positive numbers are rounded up, and negative numbers are rounded down. b) Positive numbers are rounded down, and negative numbers are rounded up. c) Both positive and negative numbers are rounded up. d) Both positive and negative numbers are rounded down. \n",
    "\n",
    "# Ans:a\n",
    "\n",
    "Q67. The value -0.045 rounded to 2 decimal places using the “round half   away from zero” strategy is… a) -0.05 b) -0.04 \n",
    "# Ans: b\n",
    "\n",
    "Q68. Which rounding strategy does Python’s built-in round() function   use? a) Round half down b) Round half away from zero c) Round half up d) Round half to even \n",
    "# Ans:c\n",
    "\n",
    "Q69. The value 4.65 rounded to one decimal place using the “round half   to even” strategy is… a) 4.6 b) 4.7 \n",
    "# Ans:a\n",
    "\n",
    "\n",
    "Q70. Which problem arises due to the multiple inheritances, if   hierarchical inheritance is used previously for its base classes? \n",
    " \n",
    "a) Diamond b) Circle c) Triangle d) Loop \n",
    " \n",
    " # Ans:b\n",
    "Q71.  How many classes should a program contain to implement the  multiple inheritances? \n",
    " \n",
    "a) Only 1 b) At least 1 c) At least 3 d) Exactly 3 \n",
    "\n",
    "# Ans:c\n",
    "\n",
    "Q72. If class a inherits class b and class c as “class a: public class b,  public class c {// class body ;}; ”, which class constructor will be  called first? \n",
    " \n",
    "a) Class a. b) Class b. c)  Class c. d)  All together.\n",
    "# Ans:a\n",
    "\n",
    "Q73.If all the members of all  base classes are private then, \n",
    " \n",
    "a) There won’t be any use of multiple inheritance b)  It will make all members as public. c) Derived class can still access them in the multiple inheritance d) Compile-time error \n",
    "\n",
    "# Ans: c"
   ]
  },
  {
   "cell_type": "markdown",
   "metadata": {},
   "source": [
    "Q74. Can the derived class be made abstract if multiple inheritance is  used? a) No, because other classes must be abstract too b) Yes, if all the functions are implemented c) Yes, if all the methods are predefined d) No, since constructors won’t be there\n",
    "\n",
    "# Ans: a\n",
    "\n",
    "\n",
    "Q75. Which among the following best defines the multilevel inheritance? \n",
    " \n",
    "a) A class derived from another derived class b) Classes being derived from other derived classes c) Continuing single level inheritance d) Class which have more than one parent \n",
    "# Ans: a\n",
    "\n",
    "Q76. If there are 5 classes, E is derived from D, D from C, C from B and  B from A. Which class constructor will be called first if the object of  E or D is created? \n",
    " \n",
    "a) A b) B c) C d) A and B \n",
    "\n",
    "# Ans:\n",
    "Q77. Which Class is having the highest degree of abstraction in   multilevel inheritance of 5 levels?   a) Class at 1st level b) Class 2nd last level c) Class at 5th level d) All with same abstraction \n",
    "\n",
    "# Ans: c\n",
    "Q78. Multilevel inheritance allows _________________ in the program. \n",
    " \n",
    "a) Only 7 levels of inheritance b) At least 7 levels of inheritance c) At most 16 levels of inheritance d) As many levels of inheritance as required \n",
    "# Ans:d\n",
    "\n",
    "Q79. If all the classes used parameterized constructors and no default  constructor then, ___________ \n",
    " \n",
    "a) The object of lower-level classes can’t be created \n",
    "b) Object of lower-level classes must call parent class constructors explicitly\n",
    "c) Object of lower-level classes must define all the default constructors \n",
    "d) Only object of first-class can be created, which is first-parent\n",
    "# Ans:d\n",
    "\n",
    "\n",
    "\n",
    "Q80. Which is the universal exception handler class? \n",
    " \n",
    "a) Object b) Math c) Errors d) Exceptions \n",
    "\n",
    "# Ans:d\n",
    "\n",
    "Q81. What are two exception classes in the hierarchy of java exceptions  class? \n",
    " \n",
    "a) Runtime exceptions only b) Compile-time exceptions only c) Runtime exceptions and other exceptions d) Other exceptions \n",
    "# Ans:c\n",
    "\n",
    "Q82.  Which are the two blocks that are used to check error and handle  the error? \n",
    " \n",
    "a) Try and catch b) Trying and catching c) Do and while d) TryDo and Check \n",
    "# Ans:a\n",
    "\n",
    "\n",
    "Q83. To catch the exceptions ___________________ \n",
    " \n",
    "a) An object must be created to catch the exception b) A variable should be created to catch the exception c) An array should be created to catch all the exceptions d) A string has to be created to store exception \n",
    "\n",
    "# Ans:a\n",
    " \n",
    "Q84. Which class is used to handle the input and output exceptions? \n",
    " \n",
    "a) InputOutput b) InputOutputExceptions c) IOExceptions d) ExceptionsIO \n",
    "\n",
    "\n",
    "# Ans:c\n",
    "\n",
    "Q85. Which among the following is true for the class exceptions? \n",
    " \n",
    "a) Only base class can give rise to the exceptions b) Only derived class can give rise to exceptions c) Either base or derived class may produce exceptions d) Both base class and derived class may produce exceptions \n",
    " \n",
    " # Ans:d\n",
    " \n",
    "Q86. If both base and derived class caught the exceptions, _____. \n",
    " \n",
    "a) Then catch block of a derived class must be defined before the base class b) Then catch block of the base class must be defined before the derived class c) Then catch block of base and derived classes don't matter. d) catch block of the base and derived classes are not mandatory to be defined \n",
    "\n",
    "# Ans:b\n",
    "\n",
    "Q87.  The catching of base class the exception _________ in java. \n",
    " \n",
    "a) After derived class is not allowed by the compiler b) Before derived class is not allowed by the compiler c) Before derived class is allowed d) After derived class can’t be done \n",
    "\n",
    "# Ans:b\n",
    "\n",
    "Q88.  Which of the following handles the undefined class in the  program? \n",
    " \n",
    "a) ClassNotFound b) NoClassException c) ClassFoundException d) ClassNotFoundException \n",
    " \n",
    " # Ans:d\n",
    " \n",
    " \n",
    "Q89. Which among the following is true? \n",
    " \n",
    "a) Only the base class catch the blocks are important. b) Only the derived class catch blocks are important. c) Both the base and derived class catch the blocks are important. d) If the base and derived classes both produce exceptions, the program doesn’t run\n",
    "\n",
    "# Ans: c\n",
    "\n",
    "Q90. Which condition among the following might result in memory  exception? \n",
    " \n",
    "a) False if conditions b) Nested if conditions that are all false c) Infinite loops d) The loop that runs exactly 99 times \n",
    "\n",
    "\n",
    "# Ans: c\n",
    " \n",
    "Q91. Which among the following is the correct definition for static   member functions? \n",
    " \n",
    "a) Functions created to allocate the constant values to each object b) Functions made to maintain a single copy of member functions for all the objects c) Functions created to define the static members d) Functions made to manipulate the static programs \n",
    " \n",
    " # Ans: c\n",
    " \n",
    " \n",
    "Q92. The static member functions __________________ \n",
    " \n",
    "a) Having access to all the members of the class. b) Having access to only constant members of a class. c) Having access to only the static members of a class. d) Having direct access to all other class members also. \n",
    " \n",
    " # Ans:a\n",
    " \n",
    " \n",
    " \n",
    "Q93. Which is the correct syntax to access the static member functions   with a class name? \n",
    " \n",
    "a) className . functionName; b) className -> functionName; c) className : functionName; d) className :: functionName; \n",
    "\n",
    "# Ans:a\n",
    "\n",
    "Q94. The static members are ______________________ \n",
    " \n",
    "a) Created with each new object. b) Created twice in the program.\n",
    "c) Created as many times, the class is being used. d)  Created and initialised, only once\n",
    "\n",
    "# Ans: c\n",
    "\n",
    "Q95. Which among the following is true? \n",
    " \n",
    "a) Static member functions can be overloaded. b) Static member functions can’t be overloaded. c) Static member functions can be overloaded using the derived classes. d) Static member functions are implicitly overloaded. \n",
    " \n",
    " \n",
    " # Ans: c\n",
    " \n",
    "Q96. The static member functions _______________ \n",
    " \n",
    "a) Can’t be declared const. b) Can’t be declared volatile. c) Can’t be declared const or volatile. d) Can’t be declared const, volatile, or constant volatile. \n",
    "\n",
    "# Ans: c\n",
    "\n",
    "Q97. Which among the following can’t be used to access the members in anyway? \n",
    " \n",
    "a) Scope resolution. b) Arrow operator. c) Single colon. d) Dot operator. \n",
    "\n",
    "\n",
    "# Ans:a\n",
    "\n",
    "Q98. If static data member are made inline, ______________ \n",
    " \n",
    "a) Those should be initialised outside of the class. b) Those can’t be initialised with the class. c) Those can be initialised within the class. d) Class members can't use those. \n",
    "# Ans:c\n",
    "\n",
    "\n",
    "Q99. The static data member _________________ \n",
    " \n",
    "a) It can be mutable. b) Can’t be mutable. c) Can’t be an integer. d) Can’t be characters. \n",
    "\n",
    "# Ans:a\n",
    "\n",
    "Q100. We can use the static member functions and static data member __________________. \n",
    " \n",
    "a) Even if a class object is not created b) Even if a class is not defined c) Even if a class doesn’t contain any static member d) Even if a class doesn’t have a complete definition\n",
    "# Ans: a\n",
    "\n",
    "Q101. Point out the wrong statement: \n",
    " \n",
    "a)  ipython is an enhanced interactive python shell. b)  Matplotlib: It enables us to plot graphics. c)   rPy provides lots of scientific routines that work on top of NumPy. d)   all of the mentioned.\n",
    "# Ans:c\n",
    "\n",
    "Q102.  The ________ function returns its argument with the modified      shape, whereas the ________ method modifies the array itself. \n",
    " \n",
    "a) reshape, resize. b) resize, reshape. c) reshape2,resize. d) all of the mentioned. \n",
    "\n",
    "# Ans: a\n",
    "\n",
    "Q103. To create sequences of the numbers, NumPy provides a function __________ analogous to range that returns arrays instead of lists. \n",
    " \n",
    "a) arrange. b) aspace. c) aline. d) all of the mentioned.\n",
    "\n",
    "# Ans:a\n",
    "\n",
    "Q104.  Point out the correct statement: \n",
    " \n",
    "a)  NumPy main object is the Homogeneous -Multidimensional array. b)  In Numpy, dimensions are called axes   \n",
    "c)  Numpy array class is called ndarray. d)  All of the Mentioned\n",
    "\n",
    "# Ans:b\n"
   ]
  },
  {
   "cell_type": "markdown",
   "metadata": {},
   "source": [
    "Q105. Which of the following function stack 1D array as the   columns into the 2D array? \n",
    " \n",
    " \n",
    "a) row_stack. b) column_stack. c) com_stack. d) all of the mentioned. \n",
    "\n",
    "# Ans:b\n",
    "\n",
    "Q106.  ndarray is also known as an alias array. \n",
    " \n",
    "a) True b) False\n",
    "# Ans:b\n",
    "\n",
    "Q107. Which of the following method creates the new array object that  looks at the same data? \n",
    " \n",
    "a)  view. b)  copy. c)  paste. d) all of the mentioned. \n",
    "\n",
    "# Ans:b\n",
    "\n",
    "Q108. Which of the functions can be used to combine the   different vectors to obtain the result for each n-uplet? \n",
    " \n",
    "a) iid_. b) ix_. c) ixd_. d) all of the mentioned. \n",
    "\n",
    "# Ans: c\n",
    "\n",
    "Q109. ndarray.dataitemSize is the buffer containing actual   elements  of an array. \n",
    " \n",
    "a) True b) False\n",
    "\n",
    "# Ans: a\n",
    "\n",
    "Q110. Which of the following is in the NumPy library? a) The n-dimensional array object b) The tools for  integrating C/C++ and the Fortran code c) Fourier transform d) all of the Mentioned \n",
    "\n",
    "# Ans: d\n",
    "\n",
    "Q111. Which of the following sets the size of the buffer used in ufuncs ? \n",
    " \n",
    "a) bufsize(size) b) setsize(size) c) setbufsize(size) d) all of the Mentioned \n",
    "\n",
    "# Ans: c\n",
    "Q112. Point out the wrong statement: \n",
    " \n",
    "a) A universal function is the function that operates upon the “ndarrays” in an element-by-element fashion b) In Numpy, universal functions are the instances of numpy.ufunction class c) Many of the built-in functions are implemented in compiled C code d) All of the Mentioned\n",
    "\n",
    "# Ans: b\n",
    "\n",
    "Q113. Which of the following attribute should be used while checking the  type combination input and output? \n",
    " \n",
    "a) .types b) .type c) .class d) all of the Mentioned \n",
    "\n",
    "# Ans: b\n",
    "\n",
    "Q114. Which of the following returns an array of “ones” with the same  shape and type as a given array? \n",
    " \n",
    "a) all_like b) ones_like c) one_alike d) all of the Mentioned \n",
    "\n",
    "# Ans: c\n",
    "\n",
    "Q115. Point out the wrong statement: \n",
    " \n",
    "a) Each universal function takes an array input and produces array outputs b) Broadcasting is used throughout NumPy to decide how to handle the disparately\n",
    "shaped arrays c) The output of the ufunc is necessarily a ndarray, if all the input arguments are ndarrays d) All of the Mentioned \n",
    "# Ans:\n",
    "\n",
    "Q116. Which of the following set of a floating-point error callback   function or a log object?   \n",
    " \n",
    "a) setter. b) settercall. c) setterstack. d) all of the mentioned. \n",
    "# Ans: a\n",
    "\n",
    "\n",
    "Q117. Some ufuncs can take output arguments. \n",
    " \n",
    "a) True b) False \n",
    "# Ans: a\n",
    "\n",
    "Q118. ___________ decompose the elements of x into the   mantissa and the two’s exponent. \n",
    " \n",
    "a) trunc b) fmod c) frexp d) ldexp \n",
    "\n",
    "# Ans: d\n",
    "\n",
    "Q119. Which of the following function take the only a single value as input? \n",
    " \n",
    "a) iscomplex. b) minimum. c) fmin. d) all of the mentioned. \n",
    "\n",
    "# Ans: a\n",
    "\n",
    "Q120. The array object returned by the _array_prepare_ is passed to      ufunc for computation. \n",
    " \n",
    "a) True b) False\n",
    "# Ans: a\n",
    "\n",
    "\n",
    "Q121. All pandas data structures are ___mutable but not always  _______-mutable. a)  size,value. b) semantic,size. c) value,size. d) none of the mentioned. \n",
    "# Ans: a\n",
    "\n",
    "Q122.  Point out the correct statement: \n",
    " \n",
    "a) Pandas consist of a set of the labelled array data structures b) Pandas consist of an integrated group by the engine for aggregating and the transforming data sets c) Pandas consist of moving window statistics d) All of the above mentioned. \n",
    "\n",
    "# Ans: b\n",
    "\n",
    "Q123. Which of the following statement will import the pandas? \n",
    " \n",
    "a) import pandas as pd b) import panda as py c) import pandaspy as pd d) all of the Mentioned \n",
    "# Ans: a\n",
    "\n",
    "\n",
    "Q124. Which of the following object did we get after reading the CSV file? \n",
    " \n",
    "a) DataFrame. b) Character Vector. c) Panel. d) All of the Mentioned \n",
    "\n",
    "# Ans:a\n",
    "\n",
    "Q125. Point out the wrong statement: \n",
    " \n",
    "a) Series is 1D labelled homogeneously-typed array. b) DataFrame is a general 2D labelled, size-mutable tabular structure with the potentially heterogeneously-typed columns. c) The panel is generally 2D labelled, also a size-mutable array. d) None of the Mentioned\n",
    "\n",
    "# Ans: a\n",
    "\n",
    "Q126. Which of the following library is similar to the pandas?\n",
    "a)  numpy. b)  RPy. c)  OutPy. d)  None of the mentioned. \n",
    " # Ans: b\n",
    " \n",
    " \n",
    "Q127. Panel is a container for the Series, and DataFrame is a   container for DataFrame objects. \n",
    " \n",
    "a) True b) False \n",
    "\n",
    "# Ans: a\n",
    "\n",
    "Q128. Which of the following is the prominent python “statistics and  econometrics library”? \n",
    " \n",
    "a) Bokeh. b) Seaborn. c) Statsmodels. d) None of the mentioned. \n",
    "# Ans: c\n",
    "\n",
    "\n",
    "Q129. Which of the following is the foundational exploratory visualisation  package for the R language in the pandas ecosystem? \n",
    " \n",
    "a) yhat. b) Seaborn. c) Vincent. d) None of the mentioned. \n",
    "\n",
    "# Ans: b\n",
    "\n",
    "Q130. Pandas consist of static and the moving window linear and panel  regression. \n",
    " \n",
    "a) True b) False\n",
    "\n",
    "# Ans: b"
   ]
  },
  {
   "cell_type": "markdown",
   "metadata": {},
   "source": [
    "Q131. Quandl API for Python wraps the __ REST API to   returns the pandas DataFrames with time series indexes. \n",
    " \n",
    "a) Quandl. b) PyDatastream. c) PyData. d) None of the Mentioned. \n",
    "# Ans: b\n",
    "\n",
    "\n",
    "Q132. Point out the correct statement: \n",
    " \n",
    "a) Statsmodels provides powerful statistics, econometrics, analysis and the modelling functionality which is out of pandas’ scope b) Vintage leverages pandas objects as an underlying data container for the computation c) Bokeh is a Python interactive visualisation library for the small datasets d) All of the Mentioned\n",
    "# Ans:a\n",
    "\n",
    "Q133.Which of the following library is used to retrieve and to acquire   statistical data and metadata disseminated in SDMX 2.1? \n",
    " \n",
    "a) pandaSDMX b) freedapi c) Geopandas. d) All of the Mentioned.\n",
    "# Ans: a\n",
    "\n",
    "\n",
    "Q134. Which of the following provides the standard API for doing   computations with MongoDB? \n",
    " \n",
    "a) Blaze. b) Geopandas. c) FRED. d) All of the Mentioned. \n",
    "# Ans: b\n",
    "\n",
    "\n",
    "Q135. Point out the wrong statement: \n",
    " \n",
    "a) qgrid is an interactive grid for sorting and the filtering DataFrames b) Pandas DataFrames implement _repr_html_ methods which are utilised by the IPython Notebook\n",
    "c) Spyder is a cross-platform Qt-based open-source R IDE d) None of the Mentioned \n",
    "# Ans: d\n",
    "\n",
    "\n",
    "Q136. Which of the following makes use of the pandas and returns   data in a Series or DataFrame? \n",
    " \n",
    " \n",
    "a) pandaSDMX. b) freedapi. c) OutPy. d) none of the mentioned. \n",
    "# Ans: c\n",
    "\n",
    "\n",
    "Q137. Spyder can introspect and display Pandas DataFrames. \n",
    " \n",
    "a) True b) False\n",
    "# Ans: a\n",
    "\n",
    "\n",
    "Q138. Which of the following is used for machine learning in the python? \n",
    " \n",
    "a) sci-kit-learn. b) seaborn-learn. c) stats-learn. d) none of the mentioned. \n",
    "\n",
    "# Ans: a\n",
    "\n",
    "Q139. The ________ project builds on top of the pandas and matplotlib   to provide easy plotting of data. \n",
    " \n",
    "a) yhat. b) Seaborn. c) Vincent. d) None of the mentioned. \n",
    "\n",
    "# Ans: b\n",
    "\n",
    "\n",
    "\n",
    "Q140 x-ray brings the labelled data power of pandas to the physical  sciences. \n",
    " \n",
    "a) True b) False\n",
    "# Ans: a\n",
    "\n",
    "\n",
    "Q141. Which of the following is the base layer of all of the sparse   has it indexed data structures? \n",
    " \n",
    "a) SArray. b) SparseArray. c) PyArray. d) None of the mentioned. \n",
    "# Ans: b\n",
    "\n",
    "\n",
    "Q142.  Point out the correct statement. \n",
    " \n",
    "a) All of the standard pandas data structures have to_sparse method b) Any sparse object can be converted back to the standard dense form by calling the to_dense c) The sparse objects exist for memory efficiency reasons. d) All of the mentioned. \n",
    "# Ans: b\n",
    "\n",
    "\n",
    "Q143. Which of the following is not an indexed object? \n",
    " \n",
    "a) SparseSeries. b) SparseDataFrame. c) SparsePanel. d) None of the mentioned. \n",
    "# Ans: c\n",
    "\n",
    "Q144. Which of the following list like data structure is used for managing  the dynamic collection of SparseArrays? \n",
    " \n",
    "a) SparseList. b) GeoList. c) SparseSeries. d) All of the mentioned. \n",
    "# Ans: a\n",
    "\n",
    "\n",
    "Q145.  Point out the wrong statement. \n",
    " \n",
    "a) to_array. append can accept scalar values or any 2-D sequence. b) Two kinds of SparseIndex are implemented. c) The integer format keeps an arrays of all locations, where the data are not equal to the fill value. d) None of the mentioned\n",
    "# Ans:a\n",
    "\n",
    "\n",
    "Q146. Which of the following method used for transforming the   Sparse-series index by the MultiIndex to a   scipy.sparse.coo_matrix? \n",
    " \n",
    "a) SparseSeries.to_coo(). b) Series.to_coo(). c) SparseSeries.to_cooser(). d) None of the mentioned. \n",
    "# Ans: a\n",
    "\n",
    "\n",
    "Q147. The integer format tracks only the locations and the sizes of   blocks of data. \n",
    " \n",
    "a) True b) False \n",
    "# Ans: b\n",
    "\n",
    "\n",
    "Q148. Which of the following is used for the testing for membership in   the list of column names? \n",
    "\n",
    "a) in. b) out. c) else if. d) none of the mentioned. \n",
    "\n",
    "# Ans:a\n",
    "\n",
    "Q149. Which of the following indexing capabilities is used as the concise  means of selecting data from a pandas object? \n",
    " \n",
    "a) In. b) ix. c) ipy. d) none of the mentioned. \n",
    "# Ans:d\n",
    "\n",
    "\n",
    "Q150. Pandas follow the NumPy convention of raising an error when  you try to convert something to a bool. \n",
    " \n",
    "a) True b) False\n",
    "\n",
    "# Ans: a\n",
    "\n"
   ]
  },
  {
   "cell_type": "code",
   "execution_count": null,
   "metadata": {},
   "outputs": [],
   "source": []
  },
  {
   "cell_type": "code",
   "execution_count": null,
   "metadata": {},
   "outputs": [],
   "source": []
  },
  {
   "cell_type": "code",
   "execution_count": null,
   "metadata": {},
   "outputs": [],
   "source": []
  },
  {
   "cell_type": "code",
   "execution_count": null,
   "metadata": {},
   "outputs": [],
   "source": []
  },
  {
   "cell_type": "code",
   "execution_count": null,
   "metadata": {},
   "outputs": [],
   "source": []
  }
 ],
 "metadata": {
  "kernelspec": {
   "display_name": "Python 3",
   "language": "python",
   "name": "python3"
  },
  "language_info": {
   "codemirror_mode": {
    "name": "ipython",
    "version": 3
   },
   "file_extension": ".py",
   "mimetype": "text/x-python",
   "name": "python",
   "nbconvert_exporter": "python",
   "pygments_lexer": "ipython3",
   "version": "3.7.4"
  }
 },
 "nbformat": 4,
 "nbformat_minor": 2
}
